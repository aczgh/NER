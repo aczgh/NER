{
  "nbformat": 4,
  "nbformat_minor": 0,
  "metadata": {
    "colab": {
      "name": "TestBioBertModel.ipynb",
      "provenance": [],
      "collapsed_sections": []
    },
    "kernelspec": {
      "name": "python3",
      "display_name": "Python 3"
    },
    "language_info": {
      "name": "python"
    },
    "accelerator": "GPU",
    "widgets": {
      "application/vnd.jupyter.widget-state+json": {
        "ac0c1be64ebd4de5b85dfb33fa5e1527": {
          "model_module": "@jupyter-widgets/controls",
          "model_name": "HBoxModel",
          "model_module_version": "1.5.0",
          "state": {
            "_dom_classes": [],
            "_model_module": "@jupyter-widgets/controls",
            "_model_module_version": "1.5.0",
            "_model_name": "HBoxModel",
            "_view_count": null,
            "_view_module": "@jupyter-widgets/controls",
            "_view_module_version": "1.5.0",
            "_view_name": "HBoxView",
            "box_style": "",
            "children": [
              "IPY_MODEL_3b616d28fc984706bc39844fef28703b",
              "IPY_MODEL_f9201069eb3849dfab062f4c75b35793",
              "IPY_MODEL_70d8f9a56aaf478f9016c80bd4a857eb"
            ],
            "layout": "IPY_MODEL_d3ed84c212614ea9be3fe28aeb9996f3"
          }
        },
        "3b616d28fc984706bc39844fef28703b": {
          "model_module": "@jupyter-widgets/controls",
          "model_name": "HTMLModel",
          "model_module_version": "1.5.0",
          "state": {
            "_dom_classes": [],
            "_model_module": "@jupyter-widgets/controls",
            "_model_module_version": "1.5.0",
            "_model_name": "HTMLModel",
            "_view_count": null,
            "_view_module": "@jupyter-widgets/controls",
            "_view_module_version": "1.5.0",
            "_view_name": "HTMLView",
            "description": "",
            "description_tooltip": null,
            "layout": "IPY_MODEL_6ab6030f8d5e41858b469cbb606d6692",
            "placeholder": "​",
            "style": "IPY_MODEL_079665c0af874adcbc2e00af76612f63",
            "value": "100%"
          }
        },
        "f9201069eb3849dfab062f4c75b35793": {
          "model_module": "@jupyter-widgets/controls",
          "model_name": "FloatProgressModel",
          "model_module_version": "1.5.0",
          "state": {
            "_dom_classes": [],
            "_model_module": "@jupyter-widgets/controls",
            "_model_module_version": "1.5.0",
            "_model_name": "FloatProgressModel",
            "_view_count": null,
            "_view_module": "@jupyter-widgets/controls",
            "_view_module_version": "1.5.0",
            "_view_name": "ProgressView",
            "bar_style": "success",
            "description": "",
            "description_tooltip": null,
            "layout": "IPY_MODEL_670d611a89cd4b4e8f955f4b9e7a6dfd",
            "max": 1,
            "min": 0,
            "orientation": "horizontal",
            "style": "IPY_MODEL_1164afee7e8b46a6821707de06ddc30b",
            "value": 1
          }
        },
        "70d8f9a56aaf478f9016c80bd4a857eb": {
          "model_module": "@jupyter-widgets/controls",
          "model_name": "HTMLModel",
          "model_module_version": "1.5.0",
          "state": {
            "_dom_classes": [],
            "_model_module": "@jupyter-widgets/controls",
            "_model_module_version": "1.5.0",
            "_model_name": "HTMLModel",
            "_view_count": null,
            "_view_module": "@jupyter-widgets/controls",
            "_view_module_version": "1.5.0",
            "_view_name": "HTMLView",
            "description": "",
            "description_tooltip": null,
            "layout": "IPY_MODEL_7711a2b3db1445a2ad10c5338d961b16",
            "placeholder": "​",
            "style": "IPY_MODEL_6f52919d079b4266843c66da62416338",
            "value": " 1/1 [00:00&lt;00:00, 16.51it/s]"
          }
        },
        "d3ed84c212614ea9be3fe28aeb9996f3": {
          "model_module": "@jupyter-widgets/base",
          "model_name": "LayoutModel",
          "model_module_version": "1.2.0",
          "state": {
            "_model_module": "@jupyter-widgets/base",
            "_model_module_version": "1.2.0",
            "_model_name": "LayoutModel",
            "_view_count": null,
            "_view_module": "@jupyter-widgets/base",
            "_view_module_version": "1.2.0",
            "_view_name": "LayoutView",
            "align_content": null,
            "align_items": null,
            "align_self": null,
            "border": null,
            "bottom": null,
            "display": null,
            "flex": null,
            "flex_flow": null,
            "grid_area": null,
            "grid_auto_columns": null,
            "grid_auto_flow": null,
            "grid_auto_rows": null,
            "grid_column": null,
            "grid_gap": null,
            "grid_row": null,
            "grid_template_areas": null,
            "grid_template_columns": null,
            "grid_template_rows": null,
            "height": null,
            "justify_content": null,
            "justify_items": null,
            "left": null,
            "margin": null,
            "max_height": null,
            "max_width": null,
            "min_height": null,
            "min_width": null,
            "object_fit": null,
            "object_position": null,
            "order": null,
            "overflow": null,
            "overflow_x": null,
            "overflow_y": null,
            "padding": null,
            "right": null,
            "top": null,
            "visibility": null,
            "width": null
          }
        },
        "6ab6030f8d5e41858b469cbb606d6692": {
          "model_module": "@jupyter-widgets/base",
          "model_name": "LayoutModel",
          "model_module_version": "1.2.0",
          "state": {
            "_model_module": "@jupyter-widgets/base",
            "_model_module_version": "1.2.0",
            "_model_name": "LayoutModel",
            "_view_count": null,
            "_view_module": "@jupyter-widgets/base",
            "_view_module_version": "1.2.0",
            "_view_name": "LayoutView",
            "align_content": null,
            "align_items": null,
            "align_self": null,
            "border": null,
            "bottom": null,
            "display": null,
            "flex": null,
            "flex_flow": null,
            "grid_area": null,
            "grid_auto_columns": null,
            "grid_auto_flow": null,
            "grid_auto_rows": null,
            "grid_column": null,
            "grid_gap": null,
            "grid_row": null,
            "grid_template_areas": null,
            "grid_template_columns": null,
            "grid_template_rows": null,
            "height": null,
            "justify_content": null,
            "justify_items": null,
            "left": null,
            "margin": null,
            "max_height": null,
            "max_width": null,
            "min_height": null,
            "min_width": null,
            "object_fit": null,
            "object_position": null,
            "order": null,
            "overflow": null,
            "overflow_x": null,
            "overflow_y": null,
            "padding": null,
            "right": null,
            "top": null,
            "visibility": null,
            "width": null
          }
        },
        "079665c0af874adcbc2e00af76612f63": {
          "model_module": "@jupyter-widgets/controls",
          "model_name": "DescriptionStyleModel",
          "model_module_version": "1.5.0",
          "state": {
            "_model_module": "@jupyter-widgets/controls",
            "_model_module_version": "1.5.0",
            "_model_name": "DescriptionStyleModel",
            "_view_count": null,
            "_view_module": "@jupyter-widgets/base",
            "_view_module_version": "1.2.0",
            "_view_name": "StyleView",
            "description_width": ""
          }
        },
        "670d611a89cd4b4e8f955f4b9e7a6dfd": {
          "model_module": "@jupyter-widgets/base",
          "model_name": "LayoutModel",
          "model_module_version": "1.2.0",
          "state": {
            "_model_module": "@jupyter-widgets/base",
            "_model_module_version": "1.2.0",
            "_model_name": "LayoutModel",
            "_view_count": null,
            "_view_module": "@jupyter-widgets/base",
            "_view_module_version": "1.2.0",
            "_view_name": "LayoutView",
            "align_content": null,
            "align_items": null,
            "align_self": null,
            "border": null,
            "bottom": null,
            "display": null,
            "flex": null,
            "flex_flow": null,
            "grid_area": null,
            "grid_auto_columns": null,
            "grid_auto_flow": null,
            "grid_auto_rows": null,
            "grid_column": null,
            "grid_gap": null,
            "grid_row": null,
            "grid_template_areas": null,
            "grid_template_columns": null,
            "grid_template_rows": null,
            "height": null,
            "justify_content": null,
            "justify_items": null,
            "left": null,
            "margin": null,
            "max_height": null,
            "max_width": null,
            "min_height": null,
            "min_width": null,
            "object_fit": null,
            "object_position": null,
            "order": null,
            "overflow": null,
            "overflow_x": null,
            "overflow_y": null,
            "padding": null,
            "right": null,
            "top": null,
            "visibility": null,
            "width": null
          }
        },
        "1164afee7e8b46a6821707de06ddc30b": {
          "model_module": "@jupyter-widgets/controls",
          "model_name": "ProgressStyleModel",
          "model_module_version": "1.5.0",
          "state": {
            "_model_module": "@jupyter-widgets/controls",
            "_model_module_version": "1.5.0",
            "_model_name": "ProgressStyleModel",
            "_view_count": null,
            "_view_module": "@jupyter-widgets/base",
            "_view_module_version": "1.2.0",
            "_view_name": "StyleView",
            "bar_color": null,
            "description_width": ""
          }
        },
        "7711a2b3db1445a2ad10c5338d961b16": {
          "model_module": "@jupyter-widgets/base",
          "model_name": "LayoutModel",
          "model_module_version": "1.2.0",
          "state": {
            "_model_module": "@jupyter-widgets/base",
            "_model_module_version": "1.2.0",
            "_model_name": "LayoutModel",
            "_view_count": null,
            "_view_module": "@jupyter-widgets/base",
            "_view_module_version": "1.2.0",
            "_view_name": "LayoutView",
            "align_content": null,
            "align_items": null,
            "align_self": null,
            "border": null,
            "bottom": null,
            "display": null,
            "flex": null,
            "flex_flow": null,
            "grid_area": null,
            "grid_auto_columns": null,
            "grid_auto_flow": null,
            "grid_auto_rows": null,
            "grid_column": null,
            "grid_gap": null,
            "grid_row": null,
            "grid_template_areas": null,
            "grid_template_columns": null,
            "grid_template_rows": null,
            "height": null,
            "justify_content": null,
            "justify_items": null,
            "left": null,
            "margin": null,
            "max_height": null,
            "max_width": null,
            "min_height": null,
            "min_width": null,
            "object_fit": null,
            "object_position": null,
            "order": null,
            "overflow": null,
            "overflow_x": null,
            "overflow_y": null,
            "padding": null,
            "right": null,
            "top": null,
            "visibility": null,
            "width": null
          }
        },
        "6f52919d079b4266843c66da62416338": {
          "model_module": "@jupyter-widgets/controls",
          "model_name": "DescriptionStyleModel",
          "model_module_version": "1.5.0",
          "state": {
            "_model_module": "@jupyter-widgets/controls",
            "_model_module_version": "1.5.0",
            "_model_name": "DescriptionStyleModel",
            "_view_count": null,
            "_view_module": "@jupyter-widgets/base",
            "_view_module_version": "1.2.0",
            "_view_name": "StyleView",
            "description_width": ""
          }
        },
        "eb1811fd211748358dd2385e8065474e": {
          "model_module": "@jupyter-widgets/controls",
          "model_name": "HBoxModel",
          "model_module_version": "1.5.0",
          "state": {
            "_dom_classes": [],
            "_model_module": "@jupyter-widgets/controls",
            "_model_module_version": "1.5.0",
            "_model_name": "HBoxModel",
            "_view_count": null,
            "_view_module": "@jupyter-widgets/controls",
            "_view_module_version": "1.5.0",
            "_view_name": "HBoxView",
            "box_style": "",
            "children": [
              "IPY_MODEL_b65c404b63854977a3da7ef0b8068bc9",
              "IPY_MODEL_4560bdf7dfb74a1fa0ca5cb4249aaa4d",
              "IPY_MODEL_8784cb2a46294511af7a23f1814b0ab1"
            ],
            "layout": "IPY_MODEL_d10088142eb9432992cf9e03edbd9e60"
          }
        },
        "b65c404b63854977a3da7ef0b8068bc9": {
          "model_module": "@jupyter-widgets/controls",
          "model_name": "HTMLModel",
          "model_module_version": "1.5.0",
          "state": {
            "_dom_classes": [],
            "_model_module": "@jupyter-widgets/controls",
            "_model_module_version": "1.5.0",
            "_model_name": "HTMLModel",
            "_view_count": null,
            "_view_module": "@jupyter-widgets/controls",
            "_view_module_version": "1.5.0",
            "_view_name": "HTMLView",
            "description": "",
            "description_tooltip": null,
            "layout": "IPY_MODEL_37d3fa73ef7b4a4ba9af0628802db417",
            "placeholder": "​",
            "style": "IPY_MODEL_f6d58e0625cd48d298ab981e4c97c7fc",
            "value": "Running Prediction: 100%"
          }
        },
        "4560bdf7dfb74a1fa0ca5cb4249aaa4d": {
          "model_module": "@jupyter-widgets/controls",
          "model_name": "FloatProgressModel",
          "model_module_version": "1.5.0",
          "state": {
            "_dom_classes": [],
            "_model_module": "@jupyter-widgets/controls",
            "_model_module_version": "1.5.0",
            "_model_name": "FloatProgressModel",
            "_view_count": null,
            "_view_module": "@jupyter-widgets/controls",
            "_view_module_version": "1.5.0",
            "_view_name": "ProgressView",
            "bar_style": "success",
            "description": "",
            "description_tooltip": null,
            "layout": "IPY_MODEL_4803f9700c0748abacc2f144d3505b3d",
            "max": 1,
            "min": 0,
            "orientation": "horizontal",
            "style": "IPY_MODEL_bb2675a87ebd43e99e96c57e79e71eda",
            "value": 1
          }
        },
        "8784cb2a46294511af7a23f1814b0ab1": {
          "model_module": "@jupyter-widgets/controls",
          "model_name": "HTMLModel",
          "model_module_version": "1.5.0",
          "state": {
            "_dom_classes": [],
            "_model_module": "@jupyter-widgets/controls",
            "_model_module_version": "1.5.0",
            "_model_name": "HTMLModel",
            "_view_count": null,
            "_view_module": "@jupyter-widgets/controls",
            "_view_module_version": "1.5.0",
            "_view_name": "HTMLView",
            "description": "",
            "description_tooltip": null,
            "layout": "IPY_MODEL_34fc848448ec4101a99337a48e45134b",
            "placeholder": "​",
            "style": "IPY_MODEL_67247ef56ac64ffe9fd623e38932f042",
            "value": " 1/1 [00:00&lt;00:00,  5.18it/s]"
          }
        },
        "d10088142eb9432992cf9e03edbd9e60": {
          "model_module": "@jupyter-widgets/base",
          "model_name": "LayoutModel",
          "model_module_version": "1.2.0",
          "state": {
            "_model_module": "@jupyter-widgets/base",
            "_model_module_version": "1.2.0",
            "_model_name": "LayoutModel",
            "_view_count": null,
            "_view_module": "@jupyter-widgets/base",
            "_view_module_version": "1.2.0",
            "_view_name": "LayoutView",
            "align_content": null,
            "align_items": null,
            "align_self": null,
            "border": null,
            "bottom": null,
            "display": null,
            "flex": null,
            "flex_flow": null,
            "grid_area": null,
            "grid_auto_columns": null,
            "grid_auto_flow": null,
            "grid_auto_rows": null,
            "grid_column": null,
            "grid_gap": null,
            "grid_row": null,
            "grid_template_areas": null,
            "grid_template_columns": null,
            "grid_template_rows": null,
            "height": null,
            "justify_content": null,
            "justify_items": null,
            "left": null,
            "margin": null,
            "max_height": null,
            "max_width": null,
            "min_height": null,
            "min_width": null,
            "object_fit": null,
            "object_position": null,
            "order": null,
            "overflow": null,
            "overflow_x": null,
            "overflow_y": null,
            "padding": null,
            "right": null,
            "top": null,
            "visibility": null,
            "width": null
          }
        },
        "37d3fa73ef7b4a4ba9af0628802db417": {
          "model_module": "@jupyter-widgets/base",
          "model_name": "LayoutModel",
          "model_module_version": "1.2.0",
          "state": {
            "_model_module": "@jupyter-widgets/base",
            "_model_module_version": "1.2.0",
            "_model_name": "LayoutModel",
            "_view_count": null,
            "_view_module": "@jupyter-widgets/base",
            "_view_module_version": "1.2.0",
            "_view_name": "LayoutView",
            "align_content": null,
            "align_items": null,
            "align_self": null,
            "border": null,
            "bottom": null,
            "display": null,
            "flex": null,
            "flex_flow": null,
            "grid_area": null,
            "grid_auto_columns": null,
            "grid_auto_flow": null,
            "grid_auto_rows": null,
            "grid_column": null,
            "grid_gap": null,
            "grid_row": null,
            "grid_template_areas": null,
            "grid_template_columns": null,
            "grid_template_rows": null,
            "height": null,
            "justify_content": null,
            "justify_items": null,
            "left": null,
            "margin": null,
            "max_height": null,
            "max_width": null,
            "min_height": null,
            "min_width": null,
            "object_fit": null,
            "object_position": null,
            "order": null,
            "overflow": null,
            "overflow_x": null,
            "overflow_y": null,
            "padding": null,
            "right": null,
            "top": null,
            "visibility": null,
            "width": null
          }
        },
        "f6d58e0625cd48d298ab981e4c97c7fc": {
          "model_module": "@jupyter-widgets/controls",
          "model_name": "DescriptionStyleModel",
          "model_module_version": "1.5.0",
          "state": {
            "_model_module": "@jupyter-widgets/controls",
            "_model_module_version": "1.5.0",
            "_model_name": "DescriptionStyleModel",
            "_view_count": null,
            "_view_module": "@jupyter-widgets/base",
            "_view_module_version": "1.2.0",
            "_view_name": "StyleView",
            "description_width": ""
          }
        },
        "4803f9700c0748abacc2f144d3505b3d": {
          "model_module": "@jupyter-widgets/base",
          "model_name": "LayoutModel",
          "model_module_version": "1.2.0",
          "state": {
            "_model_module": "@jupyter-widgets/base",
            "_model_module_version": "1.2.0",
            "_model_name": "LayoutModel",
            "_view_count": null,
            "_view_module": "@jupyter-widgets/base",
            "_view_module_version": "1.2.0",
            "_view_name": "LayoutView",
            "align_content": null,
            "align_items": null,
            "align_self": null,
            "border": null,
            "bottom": null,
            "display": null,
            "flex": null,
            "flex_flow": null,
            "grid_area": null,
            "grid_auto_columns": null,
            "grid_auto_flow": null,
            "grid_auto_rows": null,
            "grid_column": null,
            "grid_gap": null,
            "grid_row": null,
            "grid_template_areas": null,
            "grid_template_columns": null,
            "grid_template_rows": null,
            "height": null,
            "justify_content": null,
            "justify_items": null,
            "left": null,
            "margin": null,
            "max_height": null,
            "max_width": null,
            "min_height": null,
            "min_width": null,
            "object_fit": null,
            "object_position": null,
            "order": null,
            "overflow": null,
            "overflow_x": null,
            "overflow_y": null,
            "padding": null,
            "right": null,
            "top": null,
            "visibility": null,
            "width": null
          }
        },
        "bb2675a87ebd43e99e96c57e79e71eda": {
          "model_module": "@jupyter-widgets/controls",
          "model_name": "ProgressStyleModel",
          "model_module_version": "1.5.0",
          "state": {
            "_model_module": "@jupyter-widgets/controls",
            "_model_module_version": "1.5.0",
            "_model_name": "ProgressStyleModel",
            "_view_count": null,
            "_view_module": "@jupyter-widgets/base",
            "_view_module_version": "1.2.0",
            "_view_name": "StyleView",
            "bar_color": null,
            "description_width": ""
          }
        },
        "34fc848448ec4101a99337a48e45134b": {
          "model_module": "@jupyter-widgets/base",
          "model_name": "LayoutModel",
          "model_module_version": "1.2.0",
          "state": {
            "_model_module": "@jupyter-widgets/base",
            "_model_module_version": "1.2.0",
            "_model_name": "LayoutModel",
            "_view_count": null,
            "_view_module": "@jupyter-widgets/base",
            "_view_module_version": "1.2.0",
            "_view_name": "LayoutView",
            "align_content": null,
            "align_items": null,
            "align_self": null,
            "border": null,
            "bottom": null,
            "display": null,
            "flex": null,
            "flex_flow": null,
            "grid_area": null,
            "grid_auto_columns": null,
            "grid_auto_flow": null,
            "grid_auto_rows": null,
            "grid_column": null,
            "grid_gap": null,
            "grid_row": null,
            "grid_template_areas": null,
            "grid_template_columns": null,
            "grid_template_rows": null,
            "height": null,
            "justify_content": null,
            "justify_items": null,
            "left": null,
            "margin": null,
            "max_height": null,
            "max_width": null,
            "min_height": null,
            "min_width": null,
            "object_fit": null,
            "object_position": null,
            "order": null,
            "overflow": null,
            "overflow_x": null,
            "overflow_y": null,
            "padding": null,
            "right": null,
            "top": null,
            "visibility": null,
            "width": null
          }
        },
        "67247ef56ac64ffe9fd623e38932f042": {
          "model_module": "@jupyter-widgets/controls",
          "model_name": "DescriptionStyleModel",
          "model_module_version": "1.5.0",
          "state": {
            "_model_module": "@jupyter-widgets/controls",
            "_model_module_version": "1.5.0",
            "_model_name": "DescriptionStyleModel",
            "_view_count": null,
            "_view_module": "@jupyter-widgets/base",
            "_view_module_version": "1.2.0",
            "_view_name": "StyleView",
            "description_width": ""
          }
        }
      }
    }
  },
  "cells": [
    {
      "cell_type": "code",
      "execution_count": 1,
      "metadata": {
        "colab": {
          "base_uri": "https://localhost:8080/"
        },
        "id": "_NprpdjQe1hJ",
        "outputId": "38c4c5dd-9b0f-4f08-b6f3-064a3f193026"
      },
      "outputs": [
        {
          "output_type": "stream",
          "name": "stdout",
          "text": [
            "Mounted at /content/drive\n"
          ]
        }
      ],
      "source": [
        "## connect with google Drive \n",
        "from google.colab import drive\n",
        "drive.mount('/content/drive')"
      ]
    },
    {
      "cell_type": "code",
      "source": [
        "!python3 -m pip install setuptools==59.5.0\n",
        "!pip3 install --upgrade numpy==1.20.3"
      ],
      "metadata": {
        "colab": {
          "base_uri": "https://localhost:8080/",
          "height": 557
        },
        "id": "1VdhcSlrfTjs",
        "outputId": "13ac68c8-47c1-47af-ab6d-657aa5f8fc7e"
      },
      "execution_count": 2,
      "outputs": [
        {
          "output_type": "stream",
          "name": "stdout",
          "text": [
            "Collecting setuptools==59.5.0\n",
            "  Downloading setuptools-59.5.0-py3-none-any.whl (952 kB)\n",
            "\u001b[?25l\r\u001b[K     |▍                               | 10 kB 33.5 MB/s eta 0:00:01\r\u001b[K     |▊                               | 20 kB 41.4 MB/s eta 0:00:01\r\u001b[K     |█                               | 30 kB 41.5 MB/s eta 0:00:01\r\u001b[K     |█▍                              | 40 kB 29.1 MB/s eta 0:00:01\r\u001b[K     |█▊                              | 51 kB 22.0 MB/s eta 0:00:01\r\u001b[K     |██                              | 61 kB 25.0 MB/s eta 0:00:01\r\u001b[K     |██▍                             | 71 kB 25.6 MB/s eta 0:00:01\r\u001b[K     |██▊                             | 81 kB 27.4 MB/s eta 0:00:01\r\u001b[K     |███                             | 92 kB 29.7 MB/s eta 0:00:01\r\u001b[K     |███▍                            | 102 kB 30.1 MB/s eta 0:00:01\r\u001b[K     |███▉                            | 112 kB 30.1 MB/s eta 0:00:01\r\u001b[K     |████▏                           | 122 kB 30.1 MB/s eta 0:00:01\r\u001b[K     |████▌                           | 133 kB 30.1 MB/s eta 0:00:01\r\u001b[K     |████▉                           | 143 kB 30.1 MB/s eta 0:00:01\r\u001b[K     |█████▏                          | 153 kB 30.1 MB/s eta 0:00:01\r\u001b[K     |█████▌                          | 163 kB 30.1 MB/s eta 0:00:01\r\u001b[K     |█████▉                          | 174 kB 30.1 MB/s eta 0:00:01\r\u001b[K     |██████▏                         | 184 kB 30.1 MB/s eta 0:00:01\r\u001b[K     |██████▌                         | 194 kB 30.1 MB/s eta 0:00:01\r\u001b[K     |██████▉                         | 204 kB 30.1 MB/s eta 0:00:01\r\u001b[K     |███████▎                        | 215 kB 30.1 MB/s eta 0:00:01\r\u001b[K     |███████▋                        | 225 kB 30.1 MB/s eta 0:00:01\r\u001b[K     |████████                        | 235 kB 30.1 MB/s eta 0:00:01\r\u001b[K     |████████▎                       | 245 kB 30.1 MB/s eta 0:00:01\r\u001b[K     |████████▋                       | 256 kB 30.1 MB/s eta 0:00:01\r\u001b[K     |█████████                       | 266 kB 30.1 MB/s eta 0:00:01\r\u001b[K     |█████████▎                      | 276 kB 30.1 MB/s eta 0:00:01\r\u001b[K     |█████████▋                      | 286 kB 30.1 MB/s eta 0:00:01\r\u001b[K     |██████████                      | 296 kB 30.1 MB/s eta 0:00:01\r\u001b[K     |██████████▎                     | 307 kB 30.1 MB/s eta 0:00:01\r\u001b[K     |██████████▋                     | 317 kB 30.1 MB/s eta 0:00:01\r\u001b[K     |███████████                     | 327 kB 30.1 MB/s eta 0:00:01\r\u001b[K     |███████████▍                    | 337 kB 30.1 MB/s eta 0:00:01\r\u001b[K     |███████████▊                    | 348 kB 30.1 MB/s eta 0:00:01\r\u001b[K     |████████████                    | 358 kB 30.1 MB/s eta 0:00:01\r\u001b[K     |████████████▍                   | 368 kB 30.1 MB/s eta 0:00:01\r\u001b[K     |████████████▊                   | 378 kB 30.1 MB/s eta 0:00:01\r\u001b[K     |█████████████                   | 389 kB 30.1 MB/s eta 0:00:01\r\u001b[K     |█████████████▍                  | 399 kB 30.1 MB/s eta 0:00:01\r\u001b[K     |█████████████▊                  | 409 kB 30.1 MB/s eta 0:00:01\r\u001b[K     |██████████████                  | 419 kB 30.1 MB/s eta 0:00:01\r\u001b[K     |██████████████▌                 | 430 kB 30.1 MB/s eta 0:00:01\r\u001b[K     |██████████████▉                 | 440 kB 30.1 MB/s eta 0:00:01\r\u001b[K     |███████████████▏                | 450 kB 30.1 MB/s eta 0:00:01\r\u001b[K     |███████████████▌                | 460 kB 30.1 MB/s eta 0:00:01\r\u001b[K     |███████████████▉                | 471 kB 30.1 MB/s eta 0:00:01\r\u001b[K     |████████████████▏               | 481 kB 30.1 MB/s eta 0:00:01\r\u001b[K     |████████████████▌               | 491 kB 30.1 MB/s eta 0:00:01\r\u001b[K     |████████████████▉               | 501 kB 30.1 MB/s eta 0:00:01\r\u001b[K     |█████████████████▏              | 512 kB 30.1 MB/s eta 0:00:01\r\u001b[K     |█████████████████▌              | 522 kB 30.1 MB/s eta 0:00:01\r\u001b[K     |██████████████████              | 532 kB 30.1 MB/s eta 0:00:01\r\u001b[K     |██████████████████▎             | 542 kB 30.1 MB/s eta 0:00:01\r\u001b[K     |██████████████████▋             | 552 kB 30.1 MB/s eta 0:00:01\r\u001b[K     |███████████████████             | 563 kB 30.1 MB/s eta 0:00:01\r\u001b[K     |███████████████████▎            | 573 kB 30.1 MB/s eta 0:00:01\r\u001b[K     |███████████████████▋            | 583 kB 30.1 MB/s eta 0:00:01\r\u001b[K     |████████████████████            | 593 kB 30.1 MB/s eta 0:00:01\r\u001b[K     |████████████████████▎           | 604 kB 30.1 MB/s eta 0:00:01\r\u001b[K     |████████████████████▋           | 614 kB 30.1 MB/s eta 0:00:01\r\u001b[K     |█████████████████████           | 624 kB 30.1 MB/s eta 0:00:01\r\u001b[K     |█████████████████████▎          | 634 kB 30.1 MB/s eta 0:00:01\r\u001b[K     |█████████████████████▊          | 645 kB 30.1 MB/s eta 0:00:01\r\u001b[K     |██████████████████████          | 655 kB 30.1 MB/s eta 0:00:01\r\u001b[K     |██████████████████████▍         | 665 kB 30.1 MB/s eta 0:00:01\r\u001b[K     |██████████████████████▊         | 675 kB 30.1 MB/s eta 0:00:01\r\u001b[K     |███████████████████████         | 686 kB 30.1 MB/s eta 0:00:01\r\u001b[K     |███████████████████████▍        | 696 kB 30.1 MB/s eta 0:00:01\r\u001b[K     |███████████████████████▊        | 706 kB 30.1 MB/s eta 0:00:01\r\u001b[K     |████████████████████████        | 716 kB 30.1 MB/s eta 0:00:01\r\u001b[K     |████████████████████████▍       | 727 kB 30.1 MB/s eta 0:00:01\r\u001b[K     |████████████████████████▊       | 737 kB 30.1 MB/s eta 0:00:01\r\u001b[K     |█████████████████████████▏      | 747 kB 30.1 MB/s eta 0:00:01\r\u001b[K     |█████████████████████████▌      | 757 kB 30.1 MB/s eta 0:00:01\r\u001b[K     |█████████████████████████▉      | 768 kB 30.1 MB/s eta 0:00:01\r\u001b[K     |██████████████████████████▏     | 778 kB 30.1 MB/s eta 0:00:01\r\u001b[K     |██████████████████████████▌     | 788 kB 30.1 MB/s eta 0:00:01\r\u001b[K     |██████████████████████████▉     | 798 kB 30.1 MB/s eta 0:00:01\r\u001b[K     |███████████████████████████▏    | 808 kB 30.1 MB/s eta 0:00:01\r\u001b[K     |███████████████████████████▌    | 819 kB 30.1 MB/s eta 0:00:01\r\u001b[K     |███████████████████████████▉    | 829 kB 30.1 MB/s eta 0:00:01\r\u001b[K     |████████████████████████████▏   | 839 kB 30.1 MB/s eta 0:00:01\r\u001b[K     |████████████████████████████▋   | 849 kB 30.1 MB/s eta 0:00:01\r\u001b[K     |█████████████████████████████   | 860 kB 30.1 MB/s eta 0:00:01\r\u001b[K     |█████████████████████████████▎  | 870 kB 30.1 MB/s eta 0:00:01\r\u001b[K     |█████████████████████████████▋  | 880 kB 30.1 MB/s eta 0:00:01\r\u001b[K     |██████████████████████████████  | 890 kB 30.1 MB/s eta 0:00:01\r\u001b[K     |██████████████████████████████▎ | 901 kB 30.1 MB/s eta 0:00:01\r\u001b[K     |██████████████████████████████▋ | 911 kB 30.1 MB/s eta 0:00:01\r\u001b[K     |███████████████████████████████ | 921 kB 30.1 MB/s eta 0:00:01\r\u001b[K     |███████████████████████████████▎| 931 kB 30.1 MB/s eta 0:00:01\r\u001b[K     |███████████████████████████████▋| 942 kB 30.1 MB/s eta 0:00:01\r\u001b[K     |████████████████████████████████| 952 kB 30.1 MB/s eta 0:00:01\r\u001b[K     |████████████████████████████████| 952 kB 30.1 MB/s \n",
            "\u001b[?25hInstalling collected packages: setuptools\n",
            "  Attempting uninstall: setuptools\n",
            "    Found existing installation: setuptools 57.4.0\n",
            "    Uninstalling setuptools-57.4.0:\n",
            "      Successfully uninstalled setuptools-57.4.0\n",
            "\u001b[31mERROR: pip's dependency resolver does not currently take into account all the packages that are installed. This behaviour is the source of the following dependency conflicts.\n",
            "tensorflow 2.8.0 requires tf-estimator-nightly==2.8.0.dev2021122109, which is not installed.\n",
            "datascience 0.10.6 requires folium==0.2.1, but you have folium 0.8.3 which is incompatible.\u001b[0m\n",
            "Successfully installed setuptools-59.5.0\n",
            "Collecting numpy==1.20.3\n",
            "  Downloading numpy-1.20.3-cp37-cp37m-manylinux_2_12_x86_64.manylinux2010_x86_64.whl (15.3 MB)\n",
            "\u001b[K     |████████████████████████████████| 15.3 MB 27.4 MB/s \n",
            "\u001b[?25hInstalling collected packages: numpy\n",
            "  Attempting uninstall: numpy\n",
            "    Found existing installation: numpy 1.21.5\n",
            "    Uninstalling numpy-1.21.5:\n",
            "      Successfully uninstalled numpy-1.21.5\n",
            "\u001b[31mERROR: pip's dependency resolver does not currently take into account all the packages that are installed. This behaviour is the source of the following dependency conflicts.\n",
            "tensorflow 2.8.0 requires tf-estimator-nightly==2.8.0.dev2021122109, which is not installed.\n",
            "datascience 0.10.6 requires folium==0.2.1, but you have folium 0.8.3 which is incompatible.\n",
            "albumentations 0.1.12 requires imgaug<0.2.7,>=0.2.5, but you have imgaug 0.2.9 which is incompatible.\u001b[0m\n",
            "Successfully installed numpy-1.20.3\n"
          ]
        },
        {
          "output_type": "display_data",
          "data": {
            "application/vnd.colab-display-data+json": {
              "pip_warning": {
                "packages": [
                  "numpy"
                ]
              }
            }
          },
          "metadata": {}
        }
      ]
    },
    {
      "cell_type": "code",
      "source": [
        "!pip install -q transformers\n",
        "!pip install -q simpletransformers"
      ],
      "metadata": {
        "id": "xinFcb3pfT0X",
        "colab": {
          "base_uri": "https://localhost:8080/"
        },
        "outputId": "d46c5cc0-af38-448b-ec77-93c614b8c2de"
      },
      "execution_count": 1,
      "outputs": [
        {
          "output_type": "stream",
          "name": "stdout",
          "text": [
            "\u001b[K     |████████████████████████████████| 1.8 MB 18.0 MB/s \n",
            "\u001b[K     |████████████████████████████████| 10.1 MB 46.6 MB/s \n",
            "\u001b[K     |████████████████████████████████| 325 kB 62.8 MB/s \n",
            "\u001b[K     |████████████████████████████████| 1.2 MB 68.5 MB/s \n",
            "\u001b[K     |████████████████████████████████| 144 kB 70.3 MB/s \n",
            "\u001b[K     |████████████████████████████████| 181 kB 72.1 MB/s \n",
            "\u001b[K     |████████████████████████████████| 63 kB 1.9 MB/s \n",
            "\u001b[K     |████████████████████████████████| 212 kB 73.5 MB/s \n",
            "\u001b[K     |████████████████████████████████| 136 kB 78.5 MB/s \n",
            "\u001b[K     |████████████████████████████████| 1.1 MB 61.0 MB/s \n",
            "\u001b[K     |████████████████████████████████| 127 kB 75.5 MB/s \n",
            "\u001b[K     |████████████████████████████████| 144 kB 74.6 MB/s \n",
            "\u001b[K     |████████████████████████████████| 94 kB 2.7 MB/s \n",
            "\u001b[K     |████████████████████████████████| 271 kB 76.6 MB/s \n",
            "\u001b[K     |████████████████████████████████| 111 kB 75.6 MB/s \n",
            "\u001b[K     |████████████████████████████████| 4.3 MB 69.0 MB/s \n",
            "\u001b[K     |████████████████████████████████| 164 kB 73.3 MB/s \n",
            "\u001b[K     |████████████████████████████████| 76 kB 6.3 MB/s \n",
            "\u001b[K     |████████████████████████████████| 131 kB 77.4 MB/s \n",
            "\u001b[K     |████████████████████████████████| 793 kB 60.8 MB/s \n",
            "\u001b[K     |████████████████████████████████| 130 kB 75.0 MB/s \n",
            "\u001b[K     |████████████████████████████████| 428 kB 61.1 MB/s \n",
            "\u001b[K     |████████████████████████████████| 381 kB 69.5 MB/s \n",
            "\u001b[?25h  Building wheel for pathtools (setup.py) ... \u001b[?25l\u001b[?25hdone\n",
            "  Building wheel for seqeval (setup.py) ... \u001b[?25l\u001b[?25hdone\n",
            "  Building wheel for blinker (setup.py) ... \u001b[?25l\u001b[?25hdone\n",
            "\u001b[31mERROR: pip's dependency resolver does not currently take into account all the packages that are installed. This behaviour is the source of the following dependency conflicts.\n",
            "jupyter-console 5.2.0 requires prompt-toolkit<2.0.0,>=1.0.0, but you have prompt-toolkit 3.0.29 which is incompatible.\n",
            "google-colab 1.0.0 requires ipykernel~=4.10, but you have ipykernel 6.13.0 which is incompatible.\n",
            "google-colab 1.0.0 requires ipython~=5.5.0, but you have ipython 7.32.0 which is incompatible.\n",
            "google-colab 1.0.0 requires tornado~=5.1.0; python_version >= \"3.0\", but you have tornado 6.1 which is incompatible.\n",
            "datascience 0.10.6 requires folium==0.2.1, but you have folium 0.8.3 which is incompatible.\u001b[0m\n"
          ]
        }
      ]
    },
    {
      "cell_type": "code",
      "source": [
        "from simpletransformers.ner import NERModel\n",
        "from transformers import AutoTokenizer\n",
        "import pandas as pd\n",
        "import logging\n",
        "\n",
        "train_args = {\n",
        "    'reprocess_input_data': True,\n",
        "    'overwrite_output_dir': True,\n",
        "    'sliding_window': True,\n",
        "    'max_seq_length': 128,\n",
        "    'num_train_epochs': 1,\n",
        "    'train_batch_size': 32,\n",
        "    'fp16': True,\n",
        "    'output_dir': '/content/drive/MyDrive/nerTest',\n",
        "    'best_model_dir': '/content/drive/MyDrive/nerTest/best_model/',\n",
        "    'evaluate_during_training': True,\n",
        "}\n",
        "custom_labels = ['drug', 'O', 'disease']\n",
        "\n",
        "\n",
        "logging.basicConfig(level=logging.DEBUG)\n",
        "transformers_logger = logging.getLogger('transformers')\n",
        "transformers_logger.setLevel(logging.WARNING)\n",
        "\n",
        "# We use the bio BERT pre-trained model.\n",
        "model = NERModel('bert', '/content/drive/MyDrive/NER-project/modelTraining/best_model/', labels=custom_labels, args=train_args)\n",
        "\n"
      ],
      "metadata": {
        "id": "ZvUmsSonfT8U"
      },
      "execution_count": 4,
      "outputs": []
    },
    {
      "cell_type": "code",
      "source": [
        "sample = \"Thus , indomethacin by inhibition of prostaglandin synthesis may diminish the blood pressure maintaining effect of the stimulated renin - angiotensin system in sodium and volume depletion .\""
      ],
      "metadata": {
        "id": "hvExuN3pgKcM"
      },
      "execution_count": 5,
      "outputs": []
    },
    {
      "cell_type": "code",
      "source": [
        "samples = [sample]\n",
        "predictions, _ = model.predict(samples)\n",
        "for i in range(len(predictions[0])):\n",
        "  print(predictions[0][i])\n",
        "# for idx, sample in enumerate(samples):\n",
        "#   print('{}: '.format(idx))\n",
        "#   for word in predictions[idx]:\n",
        "#     print('{}'.format(word))"
      ],
      "metadata": {
        "colab": {
          "base_uri": "https://localhost:8080/",
          "height": 584,
          "referenced_widgets": [
            "ac0c1be64ebd4de5b85dfb33fa5e1527",
            "3b616d28fc984706bc39844fef28703b",
            "f9201069eb3849dfab062f4c75b35793",
            "70d8f9a56aaf478f9016c80bd4a857eb",
            "d3ed84c212614ea9be3fe28aeb9996f3",
            "6ab6030f8d5e41858b469cbb606d6692",
            "079665c0af874adcbc2e00af76612f63",
            "670d611a89cd4b4e8f955f4b9e7a6dfd",
            "1164afee7e8b46a6821707de06ddc30b",
            "7711a2b3db1445a2ad10c5338d961b16",
            "6f52919d079b4266843c66da62416338",
            "eb1811fd211748358dd2385e8065474e",
            "b65c404b63854977a3da7ef0b8068bc9",
            "4560bdf7dfb74a1fa0ca5cb4249aaa4d",
            "8784cb2a46294511af7a23f1814b0ab1",
            "d10088142eb9432992cf9e03edbd9e60",
            "37d3fa73ef7b4a4ba9af0628802db417",
            "f6d58e0625cd48d298ab981e4c97c7fc",
            "4803f9700c0748abacc2f144d3505b3d",
            "bb2675a87ebd43e99e96c57e79e71eda",
            "34fc848448ec4101a99337a48e45134b",
            "67247ef56ac64ffe9fd623e38932f042"
          ]
        },
        "id": "WAGbl3fKfmew",
        "outputId": "69ce51ff-0a9a-435b-93f6-9f8a702d84cd"
      },
      "execution_count": 6,
      "outputs": [
        {
          "output_type": "stream",
          "name": "stderr",
          "text": [
            "INFO:simpletransformers.ner.ner_model: Converting to features started.\n"
          ]
        },
        {
          "output_type": "display_data",
          "data": {
            "text/plain": [
              "  0%|          | 0/1 [00:00<?, ?it/s]"
            ],
            "application/vnd.jupyter.widget-view+json": {
              "version_major": 2,
              "version_minor": 0,
              "model_id": "ac0c1be64ebd4de5b85dfb33fa5e1527"
            }
          },
          "metadata": {}
        },
        {
          "output_type": "display_data",
          "data": {
            "text/plain": [
              "Running Prediction:   0%|          | 0/1 [00:00<?, ?it/s]"
            ],
            "application/vnd.jupyter.widget-view+json": {
              "version_major": 2,
              "version_minor": 0,
              "model_id": "eb1811fd211748358dd2385e8065474e"
            }
          },
          "metadata": {}
        },
        {
          "output_type": "stream",
          "name": "stdout",
          "text": [
            "{'Thus': 'O'}\n",
            "{',': 'O'}\n",
            "{'indomethacin': 'O'}\n",
            "{'by': 'O'}\n",
            "{'inhibition': 'O'}\n",
            "{'of': 'O'}\n",
            "{'prostaglandin': 'O'}\n",
            "{'synthesis': 'O'}\n",
            "{'may': 'O'}\n",
            "{'diminish': 'O'}\n",
            "{'the': 'O'}\n",
            "{'blood': 'O'}\n",
            "{'pressure': 'O'}\n",
            "{'maintaining': 'O'}\n",
            "{'effect': 'O'}\n",
            "{'of': 'O'}\n",
            "{'the': 'O'}\n",
            "{'stimulated': 'O'}\n",
            "{'renin': 'O'}\n",
            "{'-': 'O'}\n",
            "{'angiotensin': 'O'}\n",
            "{'system': 'O'}\n",
            "{'in': 'O'}\n",
            "{'sodium': 'O'}\n",
            "{'and': 'O'}\n",
            "{'volume': 'O'}\n",
            "{'depletion': 'O'}\n",
            "{'.': 'O'}\n"
          ]
        }
      ]
    }
  ]
}